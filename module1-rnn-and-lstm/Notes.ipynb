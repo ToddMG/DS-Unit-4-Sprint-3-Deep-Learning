{
 "cells": [
  {
   "cell_type": "markdown",
   "metadata": {},
   "source": [
    "# Recurrent Neural Networks & Long-Short Term Memory\n",
    "Used for sequence type problems, like stock market fluctuations.\n",
    "\n",
    "## Recurrent Neural Network\n",
    "Loops over the model to predict a sequence of outputs/results. Ex: predicting a stock price at every hour of the day.\n",
    "![Recurrent neural network](https://upload.wikimedia.org/wikipedia/commons/b/b5/Recurrent_neural_network_unfold.svg)\n",
    "\n",
    "- Recurrent Neural Networks aren't very good at remembering long term occurences in the past. That's where LSTM comes in.\n",
    "\n",
    "## LSTM \n",
    "Has a LSTM unit, a memory module per say, that allows for backpropagation and remembering previous data.\n",
    "- Has a *vanishing gradient problem*, after enough iterations prior gradients effectively become zero.\n",
    "- Can be used for sequence-based clasification as well as regression.\n",
    "- Can be used for text generation.\n",
    "\n",
    "### Folded Model\n",
    "### Sentiment Classification"
   ]
  },
  {
   "cell_type": "code",
   "execution_count": null,
   "metadata": {},
   "outputs": [],
   "source": []
  }
 ],
 "metadata": {
  "kernelspec": {
   "display_name": "Python 3",
   "language": "python",
   "name": "python3"
  },
  "language_info": {
   "codemirror_mode": {
    "name": "ipython",
    "version": 3
   },
   "file_extension": ".py",
   "mimetype": "text/x-python",
   "name": "python",
   "nbconvert_exporter": "python",
   "pygments_lexer": "ipython3",
   "version": "3.7.4"
  }
 },
 "nbformat": 4,
 "nbformat_minor": 4
}
